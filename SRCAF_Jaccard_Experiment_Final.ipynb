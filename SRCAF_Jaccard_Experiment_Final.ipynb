{
 "cells": [
  {
   "cell_type": "markdown",
   "id": "436a72af",
   "metadata": {},
   "source": [
    "# SRCAF \n",
    "This experiment is based on the SRCAF framework and implements a visual analysis of semantic understanding differences among multiple roles using Python and Jupyter Notebook"
   ]
  },
  {
   "cell_type": "code",
   "execution_count": 1,
   "id": "ac40f8ed",
   "metadata": {},
   "outputs": [
    {
     "name": "stdout",
     "output_type": "stream",
     "text": [
      "Requirement already satisfied: nltk in c:\\users\\skybl\\appdata\\local\\conda\\conda\\envs\\scraf_env\\lib\\site-packages (3.9.1)\n",
      "Requirement already satisfied: scikit-learn in c:\\users\\skybl\\appdata\\local\\conda\\conda\\envs\\scraf_env\\lib\\site-packages (1.7.1)\n",
      "Requirement already satisfied: matplotlib in c:\\users\\skybl\\appdata\\local\\conda\\conda\\envs\\scraf_env\\lib\\site-packages (3.10.3)\n",
      "Requirement already satisfied: seaborn in c:\\users\\skybl\\appdata\\local\\conda\\conda\\envs\\scraf_env\\lib\\site-packages (0.13.2)\n",
      "Requirement already satisfied: click in c:\\users\\skybl\\appdata\\local\\conda\\conda\\envs\\scraf_env\\lib\\site-packages (from nltk) (8.2.1)\n",
      "Requirement already satisfied: joblib in c:\\users\\skybl\\appdata\\local\\conda\\conda\\envs\\scraf_env\\lib\\site-packages (from nltk) (1.5.1)\n",
      "Requirement already satisfied: regex>=2021.8.3 in c:\\users\\skybl\\appdata\\local\\conda\\conda\\envs\\scraf_env\\lib\\site-packages (from nltk) (2024.11.6)\n",
      "Requirement already satisfied: tqdm in c:\\users\\skybl\\appdata\\local\\conda\\conda\\envs\\scraf_env\\lib\\site-packages (from nltk) (4.67.1)\n",
      "Requirement already satisfied: numpy>=1.22.0 in c:\\users\\skybl\\appdata\\local\\conda\\conda\\envs\\scraf_env\\lib\\site-packages (from scikit-learn) (2.2.6)\n",
      "Requirement already satisfied: scipy>=1.8.0 in c:\\users\\skybl\\appdata\\local\\conda\\conda\\envs\\scraf_env\\lib\\site-packages (from scikit-learn) (1.15.3)\n",
      "Requirement already satisfied: threadpoolctl>=3.1.0 in c:\\users\\skybl\\appdata\\local\\conda\\conda\\envs\\scraf_env\\lib\\site-packages (from scikit-learn) (3.6.0)\n",
      "Requirement already satisfied: contourpy>=1.0.1 in c:\\users\\skybl\\appdata\\local\\conda\\conda\\envs\\scraf_env\\lib\\site-packages (from matplotlib) (1.3.2)\n",
      "Requirement already satisfied: cycler>=0.10 in c:\\users\\skybl\\appdata\\local\\conda\\conda\\envs\\scraf_env\\lib\\site-packages (from matplotlib) (0.12.1)\n",
      "Requirement already satisfied: fonttools>=4.22.0 in c:\\users\\skybl\\appdata\\local\\conda\\conda\\envs\\scraf_env\\lib\\site-packages (from matplotlib) (4.59.0)\n",
      "Requirement already satisfied: kiwisolver>=1.3.1 in c:\\users\\skybl\\appdata\\local\\conda\\conda\\envs\\scraf_env\\lib\\site-packages (from matplotlib) (1.4.8)\n",
      "Requirement already satisfied: packaging>=20.0 in c:\\users\\skybl\\appdata\\local\\conda\\conda\\envs\\scraf_env\\lib\\site-packages (from matplotlib) (25.0)\n",
      "Requirement already satisfied: pillow>=8 in c:\\users\\skybl\\appdata\\local\\conda\\conda\\envs\\scraf_env\\lib\\site-packages (from matplotlib) (11.3.0)\n",
      "Requirement already satisfied: pyparsing>=2.3.1 in c:\\users\\skybl\\appdata\\local\\conda\\conda\\envs\\scraf_env\\lib\\site-packages (from matplotlib) (3.2.3)\n",
      "Requirement already satisfied: python-dateutil>=2.7 in c:\\users\\skybl\\appdata\\local\\conda\\conda\\envs\\scraf_env\\lib\\site-packages (from matplotlib) (2.9.0.post0)\n",
      "Requirement already satisfied: pandas>=1.2 in c:\\users\\skybl\\appdata\\local\\conda\\conda\\envs\\scraf_env\\lib\\site-packages (from seaborn) (2.3.1)\n",
      "Requirement already satisfied: pytz>=2020.1 in c:\\users\\skybl\\appdata\\local\\conda\\conda\\envs\\scraf_env\\lib\\site-packages (from pandas>=1.2->seaborn) (2025.2)\n",
      "Requirement already satisfied: tzdata>=2022.7 in c:\\users\\skybl\\appdata\\local\\conda\\conda\\envs\\scraf_env\\lib\\site-packages (from pandas>=1.2->seaborn) (2025.2)\n",
      "Requirement already satisfied: six>=1.5 in c:\\users\\skybl\\appdata\\local\\conda\\conda\\envs\\scraf_env\\lib\\site-packages (from python-dateutil>=2.7->matplotlib) (1.17.0)\n",
      "Requirement already satisfied: colorama in c:\\users\\skybl\\appdata\\local\\conda\\conda\\envs\\scraf_env\\lib\\site-packages (from click->nltk) (0.4.6)\n"
     ]
    }
   ],
   "source": [
    "!pip install nltk scikit-learn matplotlib seaborn"
   ]
  },
  {
   "cell_type": "code",
   "execution_count": 2,
   "id": "46b0e600",
   "metadata": {},
   "outputs": [
    {
     "name": "stderr",
     "output_type": "stream",
     "text": [
      "[nltk_data] Downloading package punkt to\n",
      "[nltk_data]     C:\\Users\\skybl\\AppData\\Roaming\\nltk_data...\n",
      "[nltk_data]   Package punkt is already up-to-date!\n",
      "[nltk_data] Downloading package stopwords to\n",
      "[nltk_data]     C:\\Users\\skybl\\AppData\\Roaming\\nltk_data...\n",
      "[nltk_data]   Package stopwords is already up-to-date!\n"
     ]
    },
    {
     "data": {
      "text/plain": [
       "True"
      ]
     },
     "execution_count": 2,
     "metadata": {},
     "output_type": "execute_result"
    }
   ],
   "source": [
    "import nltk\n",
    "from sklearn.feature_extraction.text import CountVectorizer\n",
    "from nltk.corpus import stopwords\n",
    "import matplotlib.pyplot as plt\n",
    "import seaborn as sns\n",
    "from itertools import combinations\n",
    "import pandas as pd\n",
    "nltk.download('punkt')\n",
    "nltk.download('stopwords')"
   ]
  },
  {
   "cell_type": "code",
   "execution_count": 3,
   "id": "5c2b19c2",
   "metadata": {},
   "outputs": [],
   "source": [
    "\n",
    "narratives = {\n",
    "    'User': \"I only want my health data used temporarily. Please don't share it with others. I care about privacy.\",\n",
    "    'Platform': \"We may store the data to improve our AI algorithms. Data might be used for analytics or shared with partners.\",\n",
    "    'Regulator': \"All data sharing must follow consent standards, be purpose-limited, and be clearly explained.\"\n",
    "}"
   ]
  },
  {
   "cell_type": "code",
   "execution_count": 4,
   "id": "2c6f1370",
   "metadata": {},
   "outputs": [],
   "source": [
    "\n",
    "stop_words = set(stopwords.words('english'))\n",
    "vectorizer = CountVectorizer(stop_words='english', max_features=10)\n",
    "X = vectorizer.fit_transform(narratives.values())\n",
    "keywords = {role: set(vectorizer.inverse_transform(X[i])[0]) for i, role in enumerate(narratives)}"
   ]
  },
  {
   "cell_type": "code",
   "execution_count": 5,
   "id": "a7d82542",
   "metadata": {},
   "outputs": [],
   "source": [
    "\n",
    "def jaccard(set1, set2):\n",
    "    return len(set1 & set2) / len(set1 | set2) if set1 | set2 else 0.0\n",
    "\n",
    "roles = list(keywords.keys())\n",
    "matrix = pd.DataFrame(index=roles, columns=roles)\n",
    "for r1 in roles:\n",
    "    for r2 in roles:\n",
    "        matrix.loc[r1, r2] = jaccard(keywords[r1], keywords[r2]) if r1 != r2 else 1.0\n",
    "matrix = matrix.astype(float)"
   ]
  },
  {
   "cell_type": "code",
   "execution_count": 7,
   "id": "1482da5a",
   "metadata": {},
   "outputs": [
    {
     "data": {
      "image/png": "[encoded data removed]",
      "text/plain": [
       "<Figure size 600x500 with 2 Axes>"
      ]
     },
     "metadata": {},
     "output_type": "display_data"
    }
   ],
   "source": [
    "\n",
    "plt.figure(figsize=(6,5))\n",
    "sns.heatmap(matrix, annot=True, cmap=\"Reds\", fmt=\".2f\")\n",
    "plt.xlabel(\"Figure 2 Semantic Overlap Between Roles (Jaccard Similarity)\", labelpad=20)\n",
    "plt.show()"
   ]
  },
  {
   "cell_type": "code",
   "execution_count": 8,
   "id": "2ce08f31",
   "metadata": {},
   "outputs": [
    {
     "name": "stdout",
     "output_type": "stream",
     "text": [
      "User Keywords: [np.str_('care'), np.str_('data'), np.str_('used')]\n",
      "Platform Keywords: [np.str_('ai'), np.str_('algorithms'), np.str_('analytics'), np.str_('data'), np.str_('used')]\n",
      "Regulator Keywords: [np.str_('clearly'), np.str_('consent'), np.str_('data'), np.str_('explained'), np.str_('follow')]\n"
     ]
    }
   ],
   "source": [
    "# 输出关键词表\n",
    "for role, kw in keywords.items():\n",
    "    print(f\"{role} Keywords: {sorted(kw)}\")"
   ]
  },
  {
   "cell_type": "code",
   "execution_count": null,
   "id": "4d1a815c-5689-4938-9dee-da4e58018e93",
   "metadata": {},
   "outputs": [],
   "source": []
  }
 ],
 "metadata": {
  "kernelspec": {
   "display_name": "Python 3 (ipykernel)",
   "language": "python",
   "name": "python3"
  },
  "language_info": {
   "codemirror_mode": {
    "name": "ipython",
    "version": 3
   },
   "file_extension": ".py",
   "mimetype": "text/x-python",
   "name": "python",
   "nbconvert_exporter": "python",
   "pygments_lexer": "ipython3",
   "version": "3.10.18"
  }
 },
 "nbformat": 4,
 "nbformat_minor": 5
}
